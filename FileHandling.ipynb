{
 "cells": [
  {
   "cell_type": "code",
   "execution_count": 1,
   "id": "cdd02f95-e10e-4c4d-a0e6-824befc7b1f8",
   "metadata": {
    "tags": []
   },
   "outputs": [
    {
     "data": {
      "text/plain": [
       "'C:\\\\Users\\\\REALME'"
      ]
     },
     "execution_count": 1,
     "metadata": {},
     "output_type": "execute_result"
    }
   ],
   "source": [
    "%pwd\n"
   ]
  },
  {
   "cell_type": "code",
   "execution_count": 2,
   "id": "929c4522-3238-4c3a-9393-c5e476b80711",
   "metadata": {
    "tags": []
   },
   "outputs": [
    {
     "name": "stdout",
     "output_type": "stream",
     "text": [
      "usage: git [-v | --version] [-h | --help] [-C <path>] [-c <name>=<value>]\n",
      "           [--exec-path[=<path>]] [--html-path] [--man-path] [--info-path]\n",
      "           [-p | --paginate | -P | --no-pager] [--no-replace-objects] [--no-lazy-fetch]\n",
      "           [--no-optional-locks] [--no-advice] [--bare] [--git-dir=<path>]\n",
      "           [--work-tree=<path>] [--namespace=<name>] [--config-env=<name>=<envvar>]\n",
      "           <command> [<args>]\n",
      "\n",
      "These are common Git commands used in various situations:\n",
      "\n",
      "start a working area (see also: git help tutorial)\n",
      "   clone     Clone a repository into a new directory\n",
      "   init      Create an empty Git repository or reinitialize an existing one\n",
      "\n",
      "work on the current change (see also: git help everyday)\n",
      "   add       Add file contents to the index\n",
      "   mv        Move or rename a file, a directory, or a symlink\n",
      "   restore   Restore working tree files\n",
      "   rm        Remove files from the working tree and from the index\n",
      "\n",
      "examine the history and state (see also: git help revisions)\n",
      "   bisect    Use binary search to find the commit that introduced a bug\n",
      "   diff      Show changes between commits, commit and working tree, etc\n",
      "   grep      Print lines matching a pattern\n",
      "   log       Show commit logs\n",
      "   show      Show various types of objects\n",
      "   status    Show the working tree status\n",
      "\n",
      "grow, mark and tweak your common history\n",
      "   branch    List, create, or delete branches\n",
      "   commit    Record changes to the repository\n",
      "   merge     Join two or more development histories together\n",
      "   rebase    Reapply commits on top of another base tip\n",
      "   reset     Reset current HEAD to the specified state\n",
      "   switch    Switch branches\n",
      "   tag       Create, list, delete or verify a tag object signed with GPG\n",
      "\n",
      "collaborate (see also: git help workflows)\n",
      "   fetch     Download objects and refs from another repository\n",
      "   pull      Fetch from and integrate with another repository or a local branch\n",
      "   push      Update remote refs along with associated objects\n",
      "\n",
      "'git help -a' and 'git help -g' list available subcommands and some\n",
      "concept guides. See 'git help <command>' or 'git help <concept>'\n",
      "to read about a specific subcommand or concept.\n",
      "See 'git help git' for an overview of the system.\n"
     ]
    }
   ],
   "source": [
    "!git\n"
   ]
  },
  {
   "cell_type": "code",
   "execution_count": 4,
   "id": "8ac6a121-939d-4475-8f9d-7748aac89ebc",
   "metadata": {
    "tags": []
   },
   "outputs": [
    {
     "name": "stderr",
     "output_type": "stream",
     "text": [
      "A subdirectory or file demo already exists.\n"
     ]
    }
   ],
   "source": [
    "%mkdir demo\n"
   ]
  },
  {
   "cell_type": "code",
   "execution_count": 5,
   "id": "472cfbc6-5470-4e06-83b8-7fdb28c2b06b",
   "metadata": {
    "tags": []
   },
   "outputs": [
    {
     "data": {
      "text/plain": [
       "'C:\\\\Users\\\\REALME'"
      ]
     },
     "execution_count": 5,
     "metadata": {},
     "output_type": "execute_result"
    }
   ],
   "source": [
    "%pwd"
   ]
  },
  {
   "cell_type": "code",
   "execution_count": 6,
   "id": "1fa23e78-413d-4e7f-ae2b-08ede8469db6",
   "metadata": {
    "tags": []
   },
   "outputs": [
    {
     "name": "stdout",
     "output_type": "stream",
     "text": [
      "C:\\Users\\REALME\\demo\n"
     ]
    }
   ],
   "source": [
    "cd demo/"
   ]
  },
  {
   "cell_type": "code",
   "execution_count": 7,
   "id": "1fb54bd1-e403-40fb-b9d5-5d03eefd111f",
   "metadata": {
    "tags": []
   },
   "outputs": [
    {
     "name": "stdout",
     "output_type": "stream",
     "text": [
      " Volume in drive C has no label.\n",
      " Volume Serial Number is 0C32-FDE2\n",
      "\n",
      " Directory of C:\\Users\\REALME\\demo\n",
      "\n",
      "11-10-2024  16:27    <DIR>          .\n",
      "11-10-2024  16:28    <DIR>          ..\n",
      "               0 File(s)              0 bytes\n",
      "               2 Dir(s)  12,537,372,672 bytes free\n"
     ]
    }
   ],
   "source": [
    "%ls"
   ]
  },
  {
   "cell_type": "code",
   "execution_count": 11,
   "id": "43f20977-04f7-439d-a466-20844d062cf8",
   "metadata": {
    "tags": []
   },
   "outputs": [],
   "source": [
    "with open(\"fil1.txt\",\"w\") as file:\n",
    "    file.write(\"\")"
   ]
  },
  {
   "cell_type": "code",
   "execution_count": 12,
   "id": "139570de-e83f-4022-9eee-1fce7db03bf9",
   "metadata": {
    "tags": []
   },
   "outputs": [
    {
     "name": "stdout",
     "output_type": "stream",
     "text": [
      " Volume in drive C has no label.\n",
      " Volume Serial Number is 0C32-FDE2\n",
      "\n",
      " Directory of C:\\Users\\REALME\\demo\n",
      "\n",
      "11-10-2024  16:33    <DIR>          .\n",
      "11-10-2024  16:32    <DIR>          ..\n",
      "11-10-2024  16:33                 0 fil1.txt\n",
      "               1 File(s)              0 bytes\n",
      "               2 Dir(s)  12,533,719,040 bytes free\n"
     ]
    }
   ],
   "source": [
    "%ls"
   ]
  },
  {
   "cell_type": "code",
   "execution_count": 13,
   "id": "873b8460-e8f0-4461-b4bd-cfb8a6d02fa1",
   "metadata": {
    "tags": []
   },
   "outputs": [],
   "source": [
    "with open(\"file2.txt\",\"w\") as file:\n",
    "    file.write(\"sakshi can do dance\")"
   ]
  },
  {
   "cell_type": "code",
   "execution_count": 14,
   "id": "8bee40da-52fb-4ff7-80fe-ea143c159500",
   "metadata": {
    "tags": []
   },
   "outputs": [
    {
     "name": "stdout",
     "output_type": "stream",
     "text": [
      " Volume in drive C has no label.\n",
      " Volume Serial Number is 0C32-FDE2\n",
      "\n",
      " Directory of C:\\Users\\REALME\\demo\n",
      "\n",
      "11-10-2024  16:34    <DIR>          .\n",
      "11-10-2024  16:34    <DIR>          ..\n",
      "11-10-2024  16:33                 0 fil1.txt\n",
      "11-10-2024  16:34                19 file2.txt\n",
      "               2 File(s)             19 bytes\n",
      "               2 Dir(s)  12,531,851,264 bytes free\n"
     ]
    }
   ],
   "source": [
    "%ls"
   ]
  },
  {
   "cell_type": "code",
   "execution_count": 16,
   "id": "59402704-0213-43c6-a5b8-4458c8876b34",
   "metadata": {
    "tags": []
   },
   "outputs": [
    {
     "name": "stdout",
     "output_type": "stream",
     "text": [
      "sakshi can do dance\n"
     ]
    }
   ],
   "source": [
    "with open(\"file2.txt\",\"r\") as file:\n",
    "    print(file.read())\n"
   ]
  },
  {
   "cell_type": "code",
   "execution_count": 18,
   "id": "8be96115-3734-427f-8089-e834b23a97af",
   "metadata": {
    "tags": []
   },
   "outputs": [
    {
     "name": "stderr",
     "output_type": "stream",
     "text": [
      "'mv' is not recognized as an internal or external command,\n",
      "operable program or batch file.\n"
     ]
    }
   ],
   "source": [
    "!mv \"file2.txt\" \"new_file2.txt\""
   ]
  },
  {
   "cell_type": "code",
   "execution_count": 19,
   "id": "5c317666-3e86-4ec0-b009-75b1cc85ef58",
   "metadata": {
    "tags": []
   },
   "outputs": [],
   "source": [
    "import os"
   ]
  },
  {
   "cell_type": "code",
   "execution_count": 21,
   "id": "b1a633a5-c09f-4f86-9feb-5802b3f2489a",
   "metadata": {
    "tags": []
   },
   "outputs": [],
   "source": [
    "os.rename(\"file2.txt\",\"new_file2.txt\")"
   ]
  },
  {
   "cell_type": "code",
   "execution_count": 23,
   "id": "98179b5d-e52d-41b2-8623-4be9172f14b5",
   "metadata": {
    "tags": []
   },
   "outputs": [
    {
     "data": {
      "text/plain": [
       "['fil1.txt', 'new_file2.txt']"
      ]
     },
     "execution_count": 23,
     "metadata": {},
     "output_type": "execute_result"
    }
   ],
   "source": [
    "os.listdir('.')"
   ]
  },
  {
   "cell_type": "code",
   "execution_count": 25,
   "id": "c9b80ab8-51be-48c5-9169-0816361240d3",
   "metadata": {
    "tags": []
   },
   "outputs": [],
   "source": [
    "os.remove(\"new_file2.txt\")"
   ]
  },
  {
   "cell_type": "code",
   "execution_count": 26,
   "id": "17587446-f1c7-40f3-a7c6-6e98de0647b0",
   "metadata": {
    "tags": []
   },
   "outputs": [],
   "source": [
    "import shutil"
   ]
  },
  {
   "cell_type": "code",
   "execution_count": 29,
   "id": "048be712-5ad8-4ad1-89f9-a9d2aba9fb8f",
   "metadata": {
    "tags": []
   },
   "outputs": [
    {
     "name": "stdout",
     "output_type": "stream",
     "text": [
      "C:\\Users\\REALME\n"
     ]
    }
   ],
   "source": [
    "# shutil.rmtree(\"demo\")\n",
    "%cd .."
   ]
  },
  {
   "cell_type": "code",
   "execution_count": 30,
   "id": "a184aaa8-ca3d-4cc6-be38-670cd9b1cfd2",
   "metadata": {
    "tags": []
   },
   "outputs": [],
   "source": [
    "shutil.rmtree(\"demo\")"
   ]
  },
  {
   "cell_type": "code",
   "execution_count": 31,
   "id": "4934353f-56ea-462f-8c73-2f1abfad17db",
   "metadata": {
    "tags": []
   },
   "outputs": [
    {
     "data": {
      "text/plain": [
       "['.anaconda',\n",
       " '.bash_history',\n",
       " '.conda',\n",
       " '.condarc',\n",
       " '.continuum',\n",
       " '.gitconfig',\n",
       " '.idlerc',\n",
       " '.ipynb_checkpoints',\n",
       " '.ipython',\n",
       " '.jupyter',\n",
       " '.lesshst',\n",
       " '.matplotlib',\n",
       " '.vscode',\n",
       " '3D Objects',\n",
       " 'All about dictionary.ipynb',\n",
       " 'all about python practice.ipynb',\n",
       " 'AppData',\n",
       " 'Application Data',\n",
       " 'Contacts',\n",
       " 'Cookies',\n",
       " 'Data Analysis of Hotel Booking.ipynb',\n",
       " 'Documents',\n",
       " 'Downloads',\n",
       " 'EDA classwork process.ipynb',\n",
       " 'Favorites',\n",
       " 'For Practice project.ipynb',\n",
       " 'IntelGraphicsProfiles',\n",
       " 'Links',\n",
       " 'Local Settings',\n",
       " 'Microsoft',\n",
       " 'Music',\n",
       " 'My Documents',\n",
       " 'NetHood',\n",
       " 'New folder',\n",
       " 'NTUSER.DAT',\n",
       " 'ntuser.dat.LOG1',\n",
       " 'ntuser.dat.LOG2',\n",
       " 'NTUSER.DAT{94993cd4-0093-11ef-8f08-b43fef1959b5}.TM.blf',\n",
       " 'NTUSER.DAT{94993cd4-0093-11ef-8f08-b43fef1959b5}.TMContainer00000000000000000001.regtrans-ms',\n",
       " 'NTUSER.DAT{94993cd4-0093-11ef-8f08-b43fef1959b5}.TMContainer00000000000000000002.regtrans-ms',\n",
       " 'ntuser.ini',\n",
       " 'OneDrive',\n",
       " 'pandas and glob  part.ipynb',\n",
       " 'PrintHood',\n",
       " 'project based on pandas and glob.ipynb',\n",
       " 'QR Code Generator.ipynb',\n",
       " 'qr.png',\n",
       " 'Recent',\n",
       " 'Sakshi.mp3',\n",
       " 'Saved Games',\n",
       " 'Searches',\n",
       " 'SendTo',\n",
       " 'start class of matplotlib.ipynb',\n",
       " 'Start Menu',\n",
       " 'Templates',\n",
       " 'Text to speech converter.ipynb',\n",
       " 'Text Translator.ipynb',\n",
       " 'Untitled.ipynb',\n",
       " 'Untitled1.ipynb',\n",
       " 'Untitled10.ipynb',\n",
       " 'Untitled2.ipynb',\n",
       " 'Untitled3.ipynb',\n",
       " 'Untitled4.ipynb',\n",
       " 'Untitled6.ipynb',\n",
       " 'Untitled7.ipynb',\n",
       " 'Untitled9.ipynb',\n",
       " 'Videos']"
      ]
     },
     "execution_count": 31,
     "metadata": {},
     "output_type": "execute_result"
    }
   ],
   "source": [
    "os.listdir(\".\")"
   ]
  },
  {
   "cell_type": "code",
   "execution_count": null,
   "id": "254ef2d6-656f-4a1c-a47d-bfa0b4a90613",
   "metadata": {},
   "outputs": [],
   "source": []
  }
 ],
 "metadata": {
  "kernelspec": {
   "display_name": "Python 3 (ipykernel)",
   "language": "python",
   "name": "python3"
  },
  "language_info": {
   "codemirror_mode": {
    "name": "ipython",
    "version": 3
   },
   "file_extension": ".py",
   "mimetype": "text/x-python",
   "name": "python",
   "nbconvert_exporter": "python",
   "pygments_lexer": "ipython3",
   "version": "3.11.5"
  }
 },
 "nbformat": 4,
 "nbformat_minor": 5
}
